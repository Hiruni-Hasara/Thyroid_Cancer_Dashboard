{
 "cells": [
  {
   "cell_type": "code",
   "execution_count": 13,
   "id": "46a6f4ca-cc9b-462c-a417-9f7d507a0d2c",
   "metadata": {},
   "outputs": [],
   "source": [
    "import pandas as pd"
   ]
  },
  {
   "cell_type": "code",
   "execution_count": 15,
   "id": "b74d1043-17d3-41bf-86c2-66fa503eee4c",
   "metadata": {},
   "outputs": [],
   "source": [
    "df=pd.read_csv(\"C:/Users/Hiruni/OneDrive/Desktop/s 16210/thyroid_cancer_risk_data.csv\")"
   ]
  },
  {
   "cell_type": "code",
   "execution_count": 17,
   "id": "b0a42446-9558-4248-a9d6-c9faa362472d",
   "metadata": {},
   "outputs": [
    {
     "name": "stdout",
     "output_type": "stream",
     "text": [
      "<class 'pandas.core.frame.DataFrame'>\n",
      "RangeIndex: 212691 entries, 0 to 212690\n",
      "Data columns (total 17 columns):\n",
      " #   Column               Non-Null Count   Dtype  \n",
      "---  ------               --------------   -----  \n",
      " 0   Patient_ID           212691 non-null  int64  \n",
      " 1   Age                  212691 non-null  int64  \n",
      " 2   Gender               212691 non-null  object \n",
      " 3   Country              212691 non-null  object \n",
      " 4   Ethnicity            212691 non-null  object \n",
      " 5   Family_History       212691 non-null  object \n",
      " 6   Radiation_Exposure   212691 non-null  object \n",
      " 7   Iodine_Deficiency    212691 non-null  object \n",
      " 8   Smoking              212691 non-null  object \n",
      " 9   Obesity              212691 non-null  object \n",
      " 10  Diabetes             212691 non-null  object \n",
      " 11  TSH_Level            212691 non-null  float64\n",
      " 12  T3_Level             212691 non-null  float64\n",
      " 13  T4_Level             212691 non-null  float64\n",
      " 14  Nodule_Size          212691 non-null  float64\n",
      " 15  Thyroid_Cancer_Risk  212691 non-null  object \n",
      " 16  Diagnosis            212691 non-null  object \n",
      "dtypes: float64(4), int64(2), object(11)\n",
      "memory usage: 27.6+ MB\n"
     ]
    }
   ],
   "source": [
    "df.info()"
   ]
  },
  {
   "cell_type": "code",
   "execution_count": 19,
   "id": "66be44f1-162a-42cd-9681-4e849edc67e2",
   "metadata": {},
   "outputs": [
    {
     "name": "stdout",
     "output_type": "stream",
     "text": [
      "Missing Values:\n",
      " Patient_ID             0\n",
      "Age                    0\n",
      "Gender                 0\n",
      "Country                0\n",
      "Ethnicity              0\n",
      "Family_History         0\n",
      "Radiation_Exposure     0\n",
      "Iodine_Deficiency      0\n",
      "Smoking                0\n",
      "Obesity                0\n",
      "Diabetes               0\n",
      "TSH_Level              0\n",
      "T3_Level               0\n",
      "T4_Level               0\n",
      "Nodule_Size            0\n",
      "Thyroid_Cancer_Risk    0\n",
      "Diagnosis              0\n",
      "dtype: int64\n"
     ]
    }
   ],
   "source": [
    "# Check for missing values\n",
    "missing_values = df.isnull().sum()\n",
    "print(\"Missing Values:\\n\", missing_values)"
   ]
  },
  {
   "cell_type": "code",
   "execution_count": 21,
   "id": "79361e3c-875e-4c69-a811-9d23083e2943",
   "metadata": {},
   "outputs": [
    {
     "name": "stdout",
     "output_type": "stream",
     "text": [
      "\n",
      "Number of duplicate rows: 0\n"
     ]
    }
   ],
   "source": [
    "# Check for duplicate rows\n",
    "duplicate_rows = df.duplicated().sum()\n",
    "print(\"\\nNumber of duplicate rows:\", duplicate_rows)"
   ]
  },
  {
   "cell_type": "code",
   "execution_count": 23,
   "id": "68e0709c-8ae0-46eb-9a20-a37b8b600306",
   "metadata": {},
   "outputs": [],
   "source": [
    "##drop ID column from the dataset\n",
    "df = df.drop(columns=['Patient_ID'])\n",
    "df.to_csv(\"C:/Users/Hiruni/OneDrive/Desktop/s 16210/thyroid_cancer_risk_data_preprocessed.csv\", index=False)"
   ]
  },
  {
   "cell_type": "code",
   "execution_count": 25,
   "id": "c2ed1cd9-d6c3-4c6a-a347-83d64e4fba3d",
   "metadata": {},
   "outputs": [
    {
     "data": {
      "text/html": [
       "<div>\n",
       "<style scoped>\n",
       "    .dataframe tbody tr th:only-of-type {\n",
       "        vertical-align: middle;\n",
       "    }\n",
       "\n",
       "    .dataframe tbody tr th {\n",
       "        vertical-align: top;\n",
       "    }\n",
       "\n",
       "    .dataframe thead th {\n",
       "        text-align: right;\n",
       "    }\n",
       "</style>\n",
       "<table border=\"1\" class=\"dataframe\">\n",
       "  <thead>\n",
       "    <tr style=\"text-align: right;\">\n",
       "      <th></th>\n",
       "      <th>Age</th>\n",
       "      <th>TSH_Level</th>\n",
       "      <th>T3_Level</th>\n",
       "      <th>T4_Level</th>\n",
       "      <th>Nodule_Size</th>\n",
       "    </tr>\n",
       "  </thead>\n",
       "  <tbody>\n",
       "    <tr>\n",
       "      <th>count</th>\n",
       "      <td>212691.000000</td>\n",
       "      <td>212691.000000</td>\n",
       "      <td>212691.000000</td>\n",
       "      <td>212691.000000</td>\n",
       "      <td>212691.000000</td>\n",
       "    </tr>\n",
       "    <tr>\n",
       "      <th>mean</th>\n",
       "      <td>51.918497</td>\n",
       "      <td>5.045102</td>\n",
       "      <td>2.001727</td>\n",
       "      <td>8.246204</td>\n",
       "      <td>2.503403</td>\n",
       "    </tr>\n",
       "    <tr>\n",
       "      <th>std</th>\n",
       "      <td>21.632815</td>\n",
       "      <td>2.860264</td>\n",
       "      <td>0.866248</td>\n",
       "      <td>2.164188</td>\n",
       "      <td>1.444631</td>\n",
       "    </tr>\n",
       "    <tr>\n",
       "      <th>min</th>\n",
       "      <td>15.000000</td>\n",
       "      <td>0.100000</td>\n",
       "      <td>0.500000</td>\n",
       "      <td>4.500000</td>\n",
       "      <td>0.000000</td>\n",
       "    </tr>\n",
       "    <tr>\n",
       "      <th>25%</th>\n",
       "      <td>33.000000</td>\n",
       "      <td>2.570000</td>\n",
       "      <td>1.250000</td>\n",
       "      <td>6.370000</td>\n",
       "      <td>1.250000</td>\n",
       "    </tr>\n",
       "    <tr>\n",
       "      <th>50%</th>\n",
       "      <td>52.000000</td>\n",
       "      <td>5.040000</td>\n",
       "      <td>2.000000</td>\n",
       "      <td>8.240000</td>\n",
       "      <td>2.510000</td>\n",
       "    </tr>\n",
       "    <tr>\n",
       "      <th>75%</th>\n",
       "      <td>71.000000</td>\n",
       "      <td>7.520000</td>\n",
       "      <td>2.750000</td>\n",
       "      <td>10.120000</td>\n",
       "      <td>3.760000</td>\n",
       "    </tr>\n",
       "    <tr>\n",
       "      <th>max</th>\n",
       "      <td>89.000000</td>\n",
       "      <td>10.000000</td>\n",
       "      <td>3.500000</td>\n",
       "      <td>12.000000</td>\n",
       "      <td>5.000000</td>\n",
       "    </tr>\n",
       "  </tbody>\n",
       "</table>\n",
       "</div>"
      ],
      "text/plain": [
       "                 Age      TSH_Level       T3_Level       T4_Level  \\\n",
       "count  212691.000000  212691.000000  212691.000000  212691.000000   \n",
       "mean       51.918497       5.045102       2.001727       8.246204   \n",
       "std        21.632815       2.860264       0.866248       2.164188   \n",
       "min        15.000000       0.100000       0.500000       4.500000   \n",
       "25%        33.000000       2.570000       1.250000       6.370000   \n",
       "50%        52.000000       5.040000       2.000000       8.240000   \n",
       "75%        71.000000       7.520000       2.750000      10.120000   \n",
       "max        89.000000      10.000000       3.500000      12.000000   \n",
       "\n",
       "         Nodule_Size  \n",
       "count  212691.000000  \n",
       "mean        2.503403  \n",
       "std         1.444631  \n",
       "min         0.000000  \n",
       "25%         1.250000  \n",
       "50%         2.510000  \n",
       "75%         3.760000  \n",
       "max         5.000000  "
      ]
     },
     "execution_count": 25,
     "metadata": {},
     "output_type": "execute_result"
    }
   ],
   "source": [
    "df.describe()"
   ]
  },
  {
   "cell_type": "code",
   "execution_count": 27,
   "id": "5d9e448f-f8eb-494a-a709-fb13902b3b83",
   "metadata": {},
   "outputs": [
    {
     "name": "stdout",
     "output_type": "stream",
     "text": [
      "<class 'pandas.core.frame.DataFrame'>\n",
      "RangeIndex: 212691 entries, 0 to 212690\n",
      "Data columns (total 16 columns):\n",
      " #   Column               Non-Null Count   Dtype  \n",
      "---  ------               --------------   -----  \n",
      " 0   Age                  212691 non-null  int64  \n",
      " 1   Gender               212691 non-null  object \n",
      " 2   Country              212691 non-null  object \n",
      " 3   Ethnicity            212691 non-null  object \n",
      " 4   Family_History       212691 non-null  object \n",
      " 5   Radiation_Exposure   212691 non-null  object \n",
      " 6   Iodine_Deficiency    212691 non-null  object \n",
      " 7   Smoking              212691 non-null  object \n",
      " 8   Obesity              212691 non-null  object \n",
      " 9   Diabetes             212691 non-null  object \n",
      " 10  TSH_Level            212691 non-null  float64\n",
      " 11  T3_Level             212691 non-null  float64\n",
      " 12  T4_Level             212691 non-null  float64\n",
      " 13  Nodule_Size          212691 non-null  float64\n",
      " 14  Thyroid_Cancer_Risk  212691 non-null  object \n",
      " 15  Diagnosis            212691 non-null  object \n",
      "dtypes: float64(4), int64(1), object(11)\n",
      "memory usage: 26.0+ MB\n"
     ]
    }
   ],
   "source": [
    "df.info()"
   ]
  },
  {
   "cell_type": "code",
   "execution_count": 29,
   "id": "fddf0fb5-d5e9-42a2-85d0-98ec6f6161e9",
   "metadata": {},
   "outputs": [
    {
     "name": "stdout",
     "output_type": "stream",
     "text": [
      "{'Gender': ['Male', 'Female'], 'Country': ['Russia', 'Germany', 'Nigeria', 'India', 'UK', 'South Korea', 'Brazil', 'China', 'Japan', 'USA'], 'Ethnicity': ['Caucasian', 'Hispanic', 'Asian', 'African', 'Middle Eastern'], 'Family_History': ['No', 'Yes'], 'Radiation_Exposure': ['Yes', 'No'], 'Iodine_Deficiency': ['No', 'Yes'], 'Smoking': ['No', 'Yes'], 'Obesity': ['No', 'Yes'], 'Diabetes': ['No', 'Yes'], 'Thyroid_Cancer_Risk': ['Low', 'Medium', 'High'], 'Diagnosis': ['Benign', 'Malignant']}\n"
     ]
    }
   ],
   "source": [
    "categorical_columns = df.select_dtypes(include=['object', 'category']).columns\n",
    "\n",
    "categories = {col: df[col].unique().tolist() for col in categorical_columns}\n",
    "\n",
    "print(categories)"
   ]
  },
  {
   "cell_type": "code",
   "execution_count": null,
   "id": "113e95f2-cc27-4c26-8b90-831adb2d762a",
   "metadata": {},
   "outputs": [],
   "source": []
  }
 ],
 "metadata": {
  "kernelspec": {
   "display_name": "Python 3 (ipykernel)",
   "language": "python",
   "name": "python3"
  },
  "language_info": {
   "codemirror_mode": {
    "name": "ipython",
    "version": 3
   },
   "file_extension": ".py",
   "mimetype": "text/x-python",
   "name": "python",
   "nbconvert_exporter": "python",
   "pygments_lexer": "ipython3",
   "version": "3.12.7"
  }
 },
 "nbformat": 4,
 "nbformat_minor": 5
}
